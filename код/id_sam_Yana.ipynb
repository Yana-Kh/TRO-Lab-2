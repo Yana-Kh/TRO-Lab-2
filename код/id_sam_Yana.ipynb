{
 "cells": [
  {
   "cell_type": "markdown",
   "id": "b689c0a5",
   "metadata": {},
   "source": [
    "# Экономическая задача"
   ]
  },
  {
   "cell_type": "markdown",
   "id": "7164c907",
   "metadata": {},
   "source": [
    "**Задача.** Фермер вложил в прошлом году в зерноводство,животноводство и овощеводство всего 2 миллиона денежных единиц и получил 180 тысяч денежных единиц прибыли. В текущем году он собирается увеличить вложения в овощеводство в 3 раза, в животноводство в 2 раза, а вложения в зерноводство оставить на прежнем уровне. На все это фермер выделяет 4\n",
    "миллиона денежных единиц. Какую прибыль собирается получить фермер в текущем году, если зерноводство приносит 7% прибыли на вложенные средства, животноводство 8% и овощеводство 9 %?"
   ]
  },
  {
   "cell_type": "markdown",
   "id": "a8aa0131",
   "metadata": {},
   "source": [
    "Пусть $x_{1}$, $x_{2}$, $x_{3}$ - вложения фермера в зерноводство, животноводство и в овощеводство в прошлом году (в миллионах денежных единиц). Тогда,"
   ]
  },
  {
   "cell_type": "markdown",
   "id": "a811f9b3",
   "metadata": {},
   "source": [
    "Инвестиции в прошлом году: $x_{1} + x_{2} + x_{3} = 2$<br>Инвестиции в текущем году: $x_{1} + 2x_{2} + 3x_{3} = 4$<br>Прибыль в прошлом году: $0,07x_{1} + 0,08x_{2} + 0,9x_{3} = 0,18$"
   ]
  },
  {
   "cell_type": "markdown",
   "id": "d5ae205f",
   "metadata": {},
   "source": [
    "Получим систему линейных уравнений:\n",
    "$$\n",
    "\\begin{cases}\n",
    "x_{1} + x_{2} + x_{3} = 2 \\\\\n",
    "x_{1} + 2x_{2} + 3x_{3} = 4 \\\\\n",
    "0,07x_{1} + 0,08x_{2} + 0,9x_{3} = 0,18\n",
    "\\end{cases}\n",
    "$$"
   ]
  },
  {
   "cell_type": "markdown",
   "id": "07285a2d",
   "metadata": {},
   "source": [
    "В результате имеем систему из трех линейных уравнений с тремя неизвестными. Исследуем данную систему на совместность по теореме\n",
    "Кронекера-Капелли. Составим расширенную матрицу системы:"
   ]
  },
  {
   "cell_type": "markdown",
   "id": "994d3c7b",
   "metadata": {},
   "source": [
    "$$\n",
    "\\bar{A} = \n",
    "\\left\\lgroup\\begin{matrix}\n",
    "1 & 1 & 1 & \\vert & 1 \\cr\n",
    "1 & 2 & 3 & \\vert & 4 \\cr\n",
    "0,07 & 0,08 & 0,09 & \\vert & 0,18\n",
    "\\end{matrix}\\right\\rgroup\n",
    "$$"
   ]
  },
  {
   "cell_type": "code",
   "execution_count": 45,
   "id": "b6de2997",
   "metadata": {},
   "outputs": [
    {
     "name": "stdout",
     "output_type": "stream",
     "text": [
      "[[1.   1.   1.   1.  ]\n",
      " [1.   2.   3.   4.  ]\n",
      " [0.07 0.08 0.09 0.18]]\n"
     ]
    }
   ],
   "source": [
    "import numpy as np\n",
    "\n",
    "slau = np.matrix('1 1 1 1; 1 2 3 4; 0.07 0.08 0.09 0.18')\n",
    "n, m = slau.shape\n",
    "print(slau)"
   ]
  },
  {
   "cell_type": "markdown",
   "id": "132e99c4",
   "metadata": {},
   "source": [
    "Приведем матрицу к ступенчатому виду:"
   ]
  },
  {
   "cell_type": "code",
   "execution_count": 46,
   "id": "07191027",
   "metadata": {},
   "outputs": [
    {
     "name": "stdout",
     "output_type": "stream",
     "text": [
      "[[1.   1.   1.   1.  ]\n",
      " [0.   1.   2.   3.  ]\n",
      " [0.   0.   0.   0.08]]\n"
     ]
    }
   ],
   "source": [
    "for j in range(n - 1):\n",
    "    for i in range(n - 1):\n",
    "        if i < j:\n",
    "            i = j\n",
    "        mn = slau[i + 1, j] / slau[j, j]\n",
    "        slau[i + 1] = slau[i + 1] - slau[j]* mn\n",
    "print(slau)"
   ]
  },
  {
   "cell_type": "markdown",
   "id": "a3d53e15",
   "metadata": {},
   "source": [
    "Получим:\n",
    "$$\n",
    "\\left\\lgroup\\begin{matrix}\n",
    "1 & 1 & 1 & \\vert & 1 \\cr\n",
    "0 & 1 & 2 & \\vert & 3 \\cr\n",
    "0 & 0 & 0 & \\vert & 0,08\n",
    "\\end{matrix}\\right\\rgroup\n",
    "$$"
   ]
  },
  {
   "cell_type": "markdown",
   "id": "87d35c9f",
   "metadata": {},
   "source": [
    "В преобразованной матрице системы последняя строка состоит их нулей. В качестве базисного минора матрицы системы можно выбрать\n",
    "$$\n",
    "M_{2} = \n",
    "\\begin{vmatrix}\n",
    "1 & 1\\\\\n",
    "0 & 1\n",
    "\\end{vmatrix}\n",
    " = 1 \\ne 0\n",
    "$$, то есть $r(A) = 2$"
   ]
  },
  {
   "cell_type": "code",
   "execution_count": 57,
   "id": "24e0e08a",
   "metadata": {},
   "outputs": [
    {
     "name": "stdout",
     "output_type": "stream",
     "text": [
      "Ранг матрицы А: 2\n"
     ]
    }
   ],
   "source": [
    "rank_a = np.linalg.matrix_rank(slau[:, 0:m -1])\n",
    "print(f\"Ранг матрицы А: {rank_a}\")"
   ]
  },
  {
   "cell_type": "markdown",
   "id": "411252af",
   "metadata": {},
   "source": [
    "В качестве базисного минора расширенной матрицы системы можно выбрать\n",
    "$$\n",
    "M_{3} = \n",
    "\\begin{vmatrix}\n",
    "1 & 1 & 2\\\\\n",
    "0 & 1 & 2\\\\\n",
    "0 & 0 & 0,08\n",
    "\\end{vmatrix} = 1 * 1 * 14 = 14 \\ne 0\n",
    "$$, то есть $r(\\bar{A}) = 3$"
   ]
  },
  {
   "cell_type": "code",
   "execution_count": 58,
   "id": "7ce7fa2d",
   "metadata": {},
   "outputs": [
    {
     "name": "stdout",
     "output_type": "stream",
     "text": [
      "Ранг матрицы АB: 3\n"
     ]
    }
   ],
   "source": [
    "rank_ab = np.linalg.matrix_rank(slau)\n",
    "print(f\"Ранг матрицы АB: {rank_ab}\")"
   ]
  },
  {
   "cell_type": "code",
   "execution_count": 47,
   "id": "6e6ad289",
   "metadata": {},
   "outputs": [],
   "source": [
    "slau_a = slau[:, 0:m]\n",
    "slau_b = slau[:, m - 1]"
   ]
  },
  {
   "cell_type": "code",
   "execution_count": 48,
   "id": "aebedc27",
   "metadata": {},
   "outputs": [
    {
     "data": {
      "text/plain": [
       "array([[1., 1., 1.]])"
      ]
     },
     "execution_count": 48,
     "metadata": {},
     "output_type": "execute_result"
    }
   ],
   "source": [
    "x = np.ones([1, n])\n",
    "x"
   ]
  },
  {
   "cell_type": "code",
   "execution_count": 54,
   "id": "4543b043",
   "metadata": {},
   "outputs": [
    {
     "name": "stdout",
     "output_type": "stream",
     "text": [
      "Система не совместна, решений нет\n"
     ]
    }
   ],
   "source": [
    "rank_a = np.linalg.matrix_rank(slau[:, 0:m -1])\n",
    "rank_ab = np.linalg.matrix_rank(slau)\n",
    "\n",
    "if rank_a == rank_ab:\n",
    "    print(\"Система совместна\")\n",
    "    if rank_a >= m:\n",
    "        print(\"Система определена\")\n",
    "        for j in range(n - 1, -1, -1):\n",
    "            x[0, j] = slau_b[j] / np.sum(slau_a[j, :] * x)\n",
    "        print(x)\n",
    "    else:\n",
    "        print(\"Система не определена\")\n",
    "else:\n",
    "    print(\"Система не совместна, решений нет\")"
   ]
  },
  {
   "cell_type": "markdown",
   "id": "97084b19",
   "metadata": {},
   "source": [
    "Итак, $r(A) ≠ r(\\bar{A})$ следовательно, по теореме Кронекера-Капелли\n",
    "система несовместна и задача не имеет решений."
   ]
  }
 ],
 "metadata": {
  "kernelspec": {
   "display_name": "Python 3 (ipykernel)",
   "language": "python",
   "name": "python3"
  },
  "language_info": {
   "codemirror_mode": {
    "name": "ipython",
    "version": 3
   },
   "file_extension": ".py",
   "mimetype": "text/x-python",
   "name": "python",
   "nbconvert_exporter": "python",
   "pygments_lexer": "ipython3",
   "version": "3.9.12"
  }
 },
 "nbformat": 4,
 "nbformat_minor": 5
}
