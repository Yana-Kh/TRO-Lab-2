{
 "cells": [
  {
   "cell_type": "markdown",
   "id": "46cd6c28",
   "metadata": {},
   "source": [
    "# Решение СЛАУ методом Гаусса"
   ]
  },
  {
   "cell_type": "markdown",
   "id": "2b53a8fd",
   "metadata": {},
   "source": [
    "Создание расширенной матрицы (А|В)"
   ]
  },
  {
   "cell_type": "code",
   "execution_count": 198,
   "id": "8085af88",
   "metadata": {},
   "outputs": [
    {
     "name": "stdout",
     "output_type": "stream",
     "text": [
      "Введите количество строк: 4\n",
      "Введите количество столбцов: 4\n",
      "[[ 1  9  9  7  5]\n",
      " [ 0  5 10  9 12]\n",
      " [ 4  1 13  3 14]\n",
      " [ 9 13 12 11  6]]\n"
     ]
    }
   ],
   "source": [
    "import numpy as np\n",
    "\n",
    "n = int(input(\"Введите количество строк: \"))\n",
    "m = int(input(\"Введите количество столбцов: \"))\n",
    "slau = np.random.randint(0, 15, size = (n, m + 1))\n",
    "\n",
    "#slau_b = slau_a[:, m]\n",
    "print(slau)"
   ]
  },
  {
   "cell_type": "markdown",
   "id": "5a919033",
   "metadata": {},
   "source": [
    "Приведение к треугольному виду"
   ]
  },
  {
   "cell_type": "code",
   "execution_count": 199,
   "id": "23559769",
   "metadata": {},
   "outputs": [],
   "source": [
    "for j in range(n - 1):\n",
    "    for i in range(n - 1):\n",
    "        if i < j:\n",
    "            i = j\n",
    "        mn = slau[i + 1, j] / slau[j, j]\n",
    "        slau[i + 1] = slau[i + 1] - slau[j]* mn"
   ]
  },
  {
   "cell_type": "markdown",
   "id": "aed61e5d",
   "metadata": {},
   "source": [
    "Разделение на A и B"
   ]
  },
  {
   "cell_type": "code",
   "execution_count": 200,
   "id": "1be822c7",
   "metadata": {},
   "outputs": [
    {
     "name": "stdout",
     "output_type": "stream",
     "text": [
      "[[ 1  9  9  7]\n",
      " [ 0  5 10  9]\n",
      " [ 0  0 47 38]\n",
      " [ 0  0  0 15]] [ 5 12 78 12]\n"
     ]
    }
   ],
   "source": [
    "slau_a = slau[:, 0:m]\n",
    "slau_b = slau[:, m]\n",
    "print(slau_a, slau_b)"
   ]
  },
  {
   "cell_type": "code",
   "execution_count": 201,
   "id": "ee7024aa",
   "metadata": {},
   "outputs": [
    {
     "data": {
      "text/plain": [
       "array([[1., 1., 1., 1.]])"
      ]
     },
     "execution_count": 201,
     "metadata": {},
     "output_type": "execute_result"
    }
   ],
   "source": [
    "x = np.ones([1, n])\n",
    "x"
   ]
  },
  {
   "cell_type": "markdown",
   "id": "28bd1036",
   "metadata": {},
   "source": [
    "Нахождение x"
   ]
  },
  {
   "cell_type": "code",
   "execution_count": 202,
   "id": "8544e153",
   "metadata": {},
   "outputs": [
    {
     "name": "stdout",
     "output_type": "stream",
     "text": [
      "Система совместна\n",
      "Система определена\n",
      "[[0.24369198 0.53865961 1.00775194 0.8       ]]\n"
     ]
    }
   ],
   "source": [
    "rank_a = np.linalg.matrix_rank(slau[:, 0:m])\n",
    "rank_ab = np.linalg.matrix_rank(slau)\n",
    "\n",
    "if rank_a == rank_ab:\n",
    "    print(\"Система совместна\")\n",
    "    if rank_a >= m:\n",
    "        print(\"Система определена\")\n",
    "        for j in range(n - 1, -1, -1):\n",
    "            x[0, j] = slau_b[j] / np.sum(slau_a[j, :] * x)\n",
    "        print(x)\n",
    "    else:\n",
    "        print(\"Система не определена\")\n",
    "else:\n",
    "    print(\"Система не совместна, решений нет\")"
   ]
  }
 ],
 "metadata": {
  "kernelspec": {
   "display_name": "Python 3 (ipykernel)",
   "language": "python",
   "name": "python3"
  },
  "language_info": {
   "codemirror_mode": {
    "name": "ipython",
    "version": 3
   },
   "file_extension": ".py",
   "mimetype": "text/x-python",
   "name": "python",
   "nbconvert_exporter": "python",
   "pygments_lexer": "ipython3",
   "version": "3.9.12"
  }
 },
 "nbformat": 4,
 "nbformat_minor": 5
}
