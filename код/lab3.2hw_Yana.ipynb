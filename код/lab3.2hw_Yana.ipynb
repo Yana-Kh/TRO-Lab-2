{
 "cells": [
  {
   "cell_type": "markdown",
   "metadata": {},
   "source": [
    "# Лабораторная работа 3.2. Домашнее задание"
   ]
  },
  {
   "cell_type": "markdown",
   "metadata": {},
   "source": [
    "### Задание №1"
   ]
  },
  {
   "cell_type": "markdown",
   "metadata": {},
   "source": [
    "Создайте два массива: в первом должны быть четные числа от 2 до 12 включительно, а в другом числа 7, 11, 15, 18, 23, 29."
   ]
  },
  {
   "cell_type": "markdown",
   "metadata": {},
   "source": [
    "$1.$ Сложите массивы и возведите элементы получившегося массива в квадрат:"
   ]
  },
  {
   "cell_type": "code",
   "execution_count": 2,
   "metadata": {},
   "outputs": [],
   "source": [
    "import numpy as np"
   ]
  },
  {
   "cell_type": "code",
   "execution_count": 12,
   "metadata": {
    "jupyter": {
     "outputs_hidden": true
    }
   },
   "outputs": [
    {
     "name": "stdout",
     "output_type": "stream",
     "text": [
      "a =  [ 2  4  6  8 10 12]\n",
      "b =  [ 7 11 15 18 23 29]\n",
      "[  81  225  441  676 1089 1681]\n"
     ]
    }
   ],
   "source": [
    "a = np.arange(2, 13, 2)\n",
    "b = np.array([7, 11, 15, 18, 23, 29])\n",
    "\n",
    "print(\"a = \", a)\n",
    "print(\"b = \", b)\n",
    "print((a + b) ** 2)"
   ]
  },
  {
   "cell_type": "markdown",
   "metadata": {},
   "source": [
    "$2.$ Выведите все элементы из первого массива, индексы которых соответствуют индексам тех элементов второго массива, которые больше 12 и дают остаток 3 при делении на 5."
   ]
  },
  {
   "cell_type": "code",
   "execution_count": 13,
   "metadata": {
    "jupyter": {
     "outputs_hidden": true
    }
   },
   "outputs": [
    {
     "name": "stdout",
     "output_type": "stream",
     "text": [
      "a =  [ 2  4  6  8 10 12]\n",
      "b =  [ 7 11 15 18 23 29]\n",
      "[ 8 10]\n"
     ]
    }
   ],
   "source": [
    "print(\"a = \", a)\n",
    "print(\"b = \", b)\n",
    "\n",
    "print(a[(b > 12) & (b % 5 == 3)])"
   ]
  },
  {
   "cell_type": "markdown",
   "metadata": {},
   "source": [
    "*3.* Проверьте условие \"Элементы первого массива делятся на 4, элементы второго массива меньше 14\". (Подсказка: в результате должен получиться массив с True и False)"
   ]
  },
  {
   "cell_type": "code",
   "execution_count": 16,
   "metadata": {},
   "outputs": [
    {
     "name": "stdout",
     "output_type": "stream",
     "text": [
      "Первое условие:  [False  True False  True False  True]\n",
      "Первое условие:  [ True  True False False False False]\n"
     ]
    }
   ],
   "source": [
    "print(\"Первое условие: \", a % 4 == 0)\n",
    "print(\"Первое условие: \", b < 14)"
   ]
  },
  {
   "cell_type": "markdown",
   "metadata": {},
   "source": [
    "### Задание №2"
   ]
  },
  {
   "cell_type": "markdown",
   "metadata": {},
   "source": [
    "* Найдите интересный для вас датасет. Например, можно выбрать датасет тут. http://data.un.org/Explorer.aspx (выбираете датасет, жмете на view data, потом download, выбирайте csv формат)\n",
    "* Рассчитайте подходящие описательные статистики для признаков объектов в выбранном датасете\n",
    "* Проанализируйте и прокомментируйте содержательно получившиеся результаты\n",
    "* Все комментарии оформляйте строго в ячейках формата markdown\n",
    "    "
   ]
  },
  {
   "cell_type": "code",
   "execution_count": 18,
   "metadata": {
    "jupyter": {
     "outputs_hidden": true
    }
   },
   "outputs": [],
   "source": [
    "import csv\n",
    "import numpy as np"
   ]
  },
  {
   "cell_type": "code",
   "execution_count": 34,
   "metadata": {},
   "outputs": [],
   "source": [
    "with open('data.csv', 'r', newline='') as csvf:\n",
    "    data = csv.reader(csvf, delimiter=';')\n",
    "    values = []\n",
    "    years = []\n",
    "    for row in data:\n",
    "        if row[0] == \"Country or Area\":\n",
    "            continue\n",
    "        values.append(float(row[5]))\n",
    "        years.append(int(row[2]))\n",
    "        \n",
    "values_arr = np.array(values)\n",
    "years_arr = np.array(years)"
   ]
  },
  {
   "cell_type": "code",
   "execution_count": 41,
   "metadata": {},
   "outputs": [
    {
     "name": "stdout",
     "output_type": "stream",
     "text": [
      "Среднее значение количества женщин к 100 мужчинам: 99.34\n",
      "Средний год рождения: 1995.46\n",
      "\n",
      "Максимальное значение отношения: 200.6\n",
      "Максимальное значение года: 2004\n",
      "\n",
      "Минимальное значение отношения: 69.0\n",
      "Минимальное значение года: 1985\n",
      "\n",
      "Среднее отклонение отношения: 9.23\n",
      "Среднее отклонение года: 5.65\n"
     ]
    }
   ],
   "source": [
    "print(f\"Среднее значение количества женщин к 100 мужчинам: {round(np.mean(values_arr),2)}\")\n",
    "print(f\"Средний год рождения: {round(np.mean(years_arr),2)}\")\n",
    "\n",
    "print(f\"\\nМаксимальное значение отношения: {np.max(values_arr)}\")\n",
    "print(f\"Максимальное значение года: {np.max(years_arr)}\")\n",
    "\n",
    "print(f\"\\nМинимальное значение отношения: {np.min(values_arr)}\")\n",
    "print(f\"Минимальное значение года: {np.min(years_arr)}\")\n",
    "\n",
    "print(f\"\\nСреднее отклонение отношения: {round(np.std(values_arr),2)}\")\n",
    "print(f\"Среднее отклонение года: {round(np.std(years_arr),2)}\")"
   ]
  },
  {
   "cell_type": "markdown",
   "metadata": {},
   "source": [
    "1) Получается, что выборка была из людей 1985-2004 года рождения (на 2023 год 19-38 лет)."
   ]
  },
  {
   "cell_type": "markdown",
   "metadata": {},
   "source": [
    "2)Наибольшее отношение девушек к мужчинам 2 к 1"
   ]
  },
  {
   "cell_type": "markdown",
   "metadata": {},
   "source": [
    "3) В среднем отклонение отношения составляет 9.23"
   ]
  }
 ],
 "metadata": {
  "kernelspec": {
   "display_name": "Python 3 (ipykernel)",
   "language": "python",
   "name": "python3"
  },
  "language_info": {
   "codemirror_mode": {
    "name": "ipython",
    "version": 3
   },
   "file_extension": ".py",
   "mimetype": "text/x-python",
   "name": "python",
   "nbconvert_exporter": "python",
   "pygments_lexer": "ipython3",
   "version": "3.9.12"
  }
 },
 "nbformat": 4,
 "nbformat_minor": 4
}
