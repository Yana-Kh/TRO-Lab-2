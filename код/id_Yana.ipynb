{
 "cells": [
  {
   "cell_type": "markdown",
   "id": "891a34f9",
   "metadata": {},
   "source": [
    "## **Задание**: \n",
    "При решении индивидуального задания не должны быть использованы условный оператор if, а также операторы циклов while и for, а только средства библиотеки NumPy"
   ]
  },
  {
   "cell_type": "markdown",
   "id": "c1e99bc5",
   "metadata": {},
   "source": [
    "**Вариант 29**: Коэффициенты системы линейных уравнений заданы в виде прямоугольной матрицы. С помощью допустимых преобразований привести систему к треугольному виду. Найти количество строк, среднее арифметическое элементов которых меньше заданной величины."
   ]
  },
  {
   "cell_type": "code",
   "execution_count": 18,
   "id": "89598ec2",
   "metadata": {},
   "outputs": [
    {
     "name": "stdout",
     "output_type": "stream",
     "text": [
      "Введите количество строк: 3\n",
      "Введите количество столбцов: 5\n"
     ]
    },
    {
     "data": {
      "text/plain": [
       "array([[ 2, 12, 10,  4,  8],\n",
       "       [ 6, 13,  8, 12,  8],\n",
       "       [10,  0,  7, 11,  6]])"
      ]
     },
     "execution_count": 18,
     "metadata": {},
     "output_type": "execute_result"
    }
   ],
   "source": [
    "import numpy as np\n",
    "\n",
    "n = int(input(\"Введите количество строк: \"))\n",
    "m = int(input(\"Введите количество столбцов: \"))\n",
    "slau = np.random.randint(0, 15, size = (n, m))\n",
    "slau"
   ]
  },
  {
   "cell_type": "markdown",
   "id": "7bdc7b54",
   "metadata": {},
   "source": [
    "Приведение к треугольному виду:"
   ]
  },
  {
   "cell_type": "code",
   "execution_count": 20,
   "id": "85545dd8",
   "metadata": {},
   "outputs": [
    {
     "data": {
      "text/plain": [
       "array([[ 2, 12, 10,  4,  8],\n",
       "       [ 0, 13,  8, 12,  8],\n",
       "       [ 0,  0,  7, 11,  6]])"
      ]
     },
     "execution_count": 20,
     "metadata": {},
     "output_type": "execute_result"
    }
   ],
   "source": [
    "tr_slau = np.triu(slau)\n",
    "tr_slau"
   ]
  },
  {
   "cell_type": "markdown",
   "id": "a2c64d74",
   "metadata": {},
   "source": [
    "Найдем количество строк:"
   ]
  },
  {
   "cell_type": "code",
   "execution_count": 37,
   "id": "f156493c",
   "metadata": {},
   "outputs": [
    {
     "name": "stdout",
     "output_type": "stream",
     "text": [
      "Количество строк: 3\n"
     ]
    }
   ],
   "source": [
    "rows, columns = tr_slau.shape\n",
    "print(f\"Количество строк: {rows}\")"
   ]
  },
  {
   "cell_type": "markdown",
   "id": "875a59ad",
   "metadata": {},
   "source": [
    "Найти количество строк, среднее арифметическое элементов которых меньше заданной величины:"
   ]
  },
  {
   "cell_type": "code",
   "execution_count": 39,
   "id": "110077bc",
   "metadata": {},
   "outputs": [
    {
     "name": "stdout",
     "output_type": "stream",
     "text": [
      "Введите ограничение: 7\n",
      "\n",
      "Средние значения: [7.2 8.2 4.8]\n",
      "Количество строк: 1\n"
     ]
    }
   ],
   "source": [
    "num = int(input(\"Введите ограничение: \"))\n",
    "\n",
    "ed_mat = np.ones((rows, ))\n",
    "mean_row_slau = tr_slau.mean(axis=1)\n",
    "\n",
    "print(f\"\\nСредние значения: {mean_row_slau}\")\n",
    "print(f\"Количество строк: {int(ed_mat[mean_row_slau < num].sum())}\")"
   ]
  }
 ],
 "metadata": {
  "kernelspec": {
   "display_name": "Python 3 (ipykernel)",
   "language": "python",
   "name": "python3"
  },
  "language_info": {
   "codemirror_mode": {
    "name": "ipython",
    "version": 3
   },
   "file_extension": ".py",
   "mimetype": "text/x-python",
   "name": "python",
   "nbconvert_exporter": "python",
   "pygments_lexer": "ipython3",
   "version": "3.9.12"
  }
 },
 "nbformat": 4,
 "nbformat_minor": 5
}
