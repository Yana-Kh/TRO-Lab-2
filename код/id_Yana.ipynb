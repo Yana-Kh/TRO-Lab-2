{
 "cells": [
  {
   "cell_type": "markdown",
   "id": "891a34f9",
   "metadata": {},
   "source": [
    "## **Задание**: \n",
    "При решении индивидуального задания не должны быть использованы условный оператор if, а также операторы циклов while и for, а только средства библиотеки NumPy"
   ]
  },
  {
   "cell_type": "markdown",
   "id": "c1e99bc5",
   "metadata": {},
   "source": [
    "**Вариант 29**: Коэффициенты системы линейных уравнений заданы в виде прямоугольной матрицы. С помощью допустимых преобразований привести систему к треугольному виду. Найти количество строк, среднее арифметическое элементов которых меньше заданной величины."
   ]
  },
  {
   "cell_type": "code",
   "execution_count": 40,
   "id": "89598ec2",
   "metadata": {},
   "outputs": [
    {
     "name": "stdout",
     "output_type": "stream",
     "text": [
      "Введите количество строк: 3\n",
      "Введите количество столбцов: 4\n"
     ]
    },
    {
     "data": {
      "text/plain": [
       "array([[ 8, 13,  8,  6],\n",
       "       [11,  2, 11,  8],\n",
       "       [ 7,  2,  1, 11]])"
      ]
     },
     "execution_count": 40,
     "metadata": {},
     "output_type": "execute_result"
    }
   ],
   "source": [
    "import numpy as np\n",
    "\n",
    "n = int(input(\"Введите количество строк: \"))\n",
    "m = int(input(\"Введите количество столбцов: \"))\n",
    "np.random.seed(2)\n",
    "slau = np.random.randint(0, 15, size = (n, m))\n",
    "slau"
   ]
  },
  {
   "cell_type": "markdown",
   "id": "7bdc7b54",
   "metadata": {},
   "source": [
    "Приведение к треугольному виду:"
   ]
  },
  {
   "cell_type": "code",
   "execution_count": 41,
   "id": "85545dd8",
   "metadata": {},
   "outputs": [
    {
     "data": {
      "text/plain": [
       "array([[ 8, 13,  8,  6],\n",
       "       [ 0,  2, 11,  8],\n",
       "       [ 0,  0,  1, 11]])"
      ]
     },
     "execution_count": 41,
     "metadata": {},
     "output_type": "execute_result"
    }
   ],
   "source": [
    "tr_slau = np.triu(slau)\n",
    "tr_slau"
   ]
  },
  {
   "cell_type": "markdown",
   "id": "a2c64d74",
   "metadata": {},
   "source": [
    "Найдем количество строк:"
   ]
  },
  {
   "cell_type": "code",
   "execution_count": 42,
   "id": "f156493c",
   "metadata": {},
   "outputs": [
    {
     "name": "stdout",
     "output_type": "stream",
     "text": [
      "Количество строк: 3\n"
     ]
    }
   ],
   "source": [
    "rows, columns = tr_slau.shape\n",
    "print(f\"Количество строк: {rows}\")"
   ]
  },
  {
   "cell_type": "markdown",
   "id": "875a59ad",
   "metadata": {},
   "source": [
    "Найти количество строк, среднее арифметическое элементов которых меньше заданной величины:"
   ]
  },
  {
   "cell_type": "code",
   "execution_count": 43,
   "id": "110077bc",
   "metadata": {},
   "outputs": [
    {
     "name": "stdout",
     "output_type": "stream",
     "text": [
      "Введите ограничение: 5\n",
      "\n",
      "Средние значения: [8.75 5.25 3.  ]\n",
      "Количество строк: 1\n"
     ]
    }
   ],
   "source": [
    "num = int(input(\"Введите ограничение: \"))\n",
    "\n",
    "ed_mat = np.ones((rows, ))\n",
    "mean_row_slau = tr_slau.mean(axis=1)\n",
    "\n",
    "print(f\"\\nСредние значения: {mean_row_slau}\")\n",
    "print(f\"Количество строк: {int(ed_mat[mean_row_slau < num].sum())}\")"
   ]
  }
 ],
 "metadata": {
  "kernelspec": {
   "display_name": "Python 3 (ipykernel)",
   "language": "python",
   "name": "python3"
  },
  "language_info": {
   "codemirror_mode": {
    "name": "ipython",
    "version": 3
   },
   "file_extension": ".py",
   "mimetype": "text/x-python",
   "name": "python",
   "nbconvert_exporter": "python",
   "pygments_lexer": "ipython3",
   "version": "3.9.12"
  }
 },
 "nbformat": 4,
 "nbformat_minor": 5
}
